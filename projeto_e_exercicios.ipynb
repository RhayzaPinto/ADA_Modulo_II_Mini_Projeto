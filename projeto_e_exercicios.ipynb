{
  "cells": [
    {
      "cell_type": "markdown",
      "metadata": {
        "id": "oxQWvyJp8vD1"
      },
      "source": [
        "# Mini-Projeto: Simulação de Jogo de Dados\n",
        "\n",
        "## Objetivo\n",
        "\n",
        "Você tem a tarefa de criar uma simulação para um jogo de dados. Essa simulação tem como objetivo reunir estatísticas para analisar a justiça do jogo, possíveis resultados e fazer previsões sobre jogos futuros.\n",
        "\n",
        "## Desafios do Projeto\n",
        "\n",
        "1. **Simulação de Dados**: Crie uma função que simule o lançamento de dois dados de seis lados (valores de 1 a 6). Esta função deve retornar a soma dos resultados dos dados.\n",
        "\n",
        "2. **Múltiplas Simulações**: Use a função do passo 1 para simular um grande número de jogos de dados (digamos, 1000 jogos). Armazene o resultado de cada jogo em um array NumPy.\n",
        "\n",
        "3. **Análise de Dados**: Agora, vamos analisar os resultados desses jogos. Calcule e imprima o seguinte:\n",
        "- A média dos resultados.\n",
        "- O lançamento máximo e mínimo.\n",
        "- O número de vezes que cada possível lançamento (2, 3, 4, 5, 6, 7, 8, 9, 10, 11 e 12) ocorreu.\n",
        "- Teste de Hipótese: Agora vamos fazer um pouco de teste de hipóteses:\n",
        "  - Supondo um jogo justo (ou seja, todos os lançamentos são igualmente prováveis), o resultado da sua simulação coincide com essa suposição? Por que sim ou por que não?\n",
        "  - O que isso significa para um jogador do jogo de dados?\n",
        "\n",
        "## Entregáveis\n",
        "\n",
        "Link de um repositório no seu GitHub, contendo:\n",
        "- Um script Python (arquivo `.py` ou `.ipynb`) com a sua solução para os três desafios apresentados.\n"
      ]
    },
    {
      "cell_type": "code",
      "execution_count": 1,
      "metadata": {
        "id": "ocrqtuzB8vD_"
      },
      "outputs": [],
      "source": [
        "import numpy as np"
      ]
    },
    {
      "cell_type": "code",
      "source": [
        "def dice_roll():\n",
        "    dice1 = np.random.randint(1, 7)\n",
        "    dice2 = np.random.randint(1, 7)\n",
        "    return dice1 + dice2"
      ],
      "metadata": {
        "id": "e9ne45La_ar-"
      },
      "execution_count": 2,
      "outputs": []
    },
    {
      "cell_type": "code",
      "source": [
        "num_simulations = 1000\n",
        "\n",
        "results = np.array([dice_roll() for roll in range(num_simulations)])"
      ],
      "metadata": {
        "colab": {
          "base_uri": "https://localhost:8080/"
        },
        "id": "9T2CFXT2_klA",
        "outputId": "c7482765-1416-4328-ab8d-49cbdfd287dd"
      },
      "execution_count": 5,
      "outputs": [
        {
          "output_type": "stream",
          "name": "stdout",
          "text": [
            "[ 9  8  4 10  5 10  8  8  5 10 10  7  2  9  9  3  8  7  3  9 12  5  8 10\n",
            "  4  8 11  4  8 11  8  7  4 10  5  8  7 10  8 11  7  7 10  5  7  5  5  7\n",
            "  7  9  8  9  9  7  8 11  7  5  5 11  8  9  2  5  6  3  7 10  6  7  6  9\n",
            "  7  6  9  8  4  9  5  6  8 10 11  4  6  5  7  9 10 10  4  8  8  4  6  6\n",
            " 11 10 11  9 11  8  8  8  9  8 10 11  7  5  8 10  7  4 11  6  9  8  3  8\n",
            "  4 10  6  8  7  7  9  7  5 10  9  4  4  8  8  5  7  7  7  8  9  7  8  4\n",
            "  5  5  7  8  9  7  9  7  4  8 10  4  5 10  7  8  6  5  8  7  8  8 12  7\n",
            " 12  6  7  3  6  5  6  2  5  9  5  9  8  9 10  6  5  3 11  8 10  5  6  7\n",
            "  2  6  6  7  6 10  9  5  5  7  2 11 11 10  2  7  9  7 11 11 11  7  7  6\n",
            "  7  3 11  7 11 11 11  4  7  7  5  2  5  7  5 10  5  7  8  2  6  8  8  7\n",
            "  5  8  9  8  4  4  9  7 11  8  5  6  7  2  8  9  6  6  9  5 10  5  7  5\n",
            "  9 11 10  9  7  7  9  9  6 10  7 10  6  3  5  6 10  6  8  6  3  7  5 10\n",
            "  8  6  6 11  9  6  4  7  6  8  5  7  9  4  9  4 10  8  5  7  5  7  9  6\n",
            " 11  9  4  6  6  4  5  9  3  7 10  7  3  8 12 10  4  9  6  8  6  6  7 10\n",
            "  7  5  7 10  8  8  5  5  6 10  9  5  7  9  8  9  3  6  6  5 11  5  6  5\n",
            "  4  7  7  5  7  4  9  8  9  8  9  9  8  7  4  6  7  6  4  5  9  8  7  6\n",
            " 10  6  9  5  9  7 12  7  5 10  3  7 11  3  7  6 11  8  8  3  5 10  9  7\n",
            "  4  9  4  8  3  7  7  9  6  4  5 10  6  8  8  7 10  5  7  9  8 12  3  4\n",
            " 10  8  3  5  4  4  7  7  7  9  7  4 11  3 10  4  7  5  5  6  5  9  7  3\n",
            " 10  9  8  8  3  9  4 10  7  7  7  8  7  8  5  6  8 10  8  5 10  7  5  4\n",
            "  8  8  7 11  4  6  5  4  4 11  6 10  2  5  7  6  4  9 11  4  5  5  9  3\n",
            "  6  4  7  6  6  8  6  9  7  5  6 10  6  9  8  7  8  6  5  6  8  6  8  6\n",
            "  9  3  7  7  8 11  3  9  6  6 11  8  5  8  7  9  9  8  5  5  5 10  4  6\n",
            "  3  7  7  6  8  5  2  8  5  6  7  5  3 10  4  2  9  8  4  8  5 10  9  3\n",
            "  3  2  7  7  2  4  3  7  3  6  7  6  9 10  5  6  7  9  6 10 10  5  9  3\n",
            "  5  3  6  9 11 10  5  8  5  8  3  2 11  6  2  7  8  9  7  8 12  5  3  6\n",
            "  6 10  7  5  3  9  9  9  6  3  6  3  9  6 10  4 10  4  8  5 11  3  9 11\n",
            "  8  7  5  9  8  5  8  3  9  8  6  8  3  2  6  6  5  6  7  7  5  8 10  5\n",
            "  6  6 12  7  5  8  7  5  2  4  8  7  9  8  9  6  7  5  7  6  7  5 11  6\n",
            "  6  6  3 10  9  6 10  6  7  7  6  6  3 10 12  7 10  9  7  6 10  7  9  5\n",
            "  2 12  3 11  6  6  6  5  8  8 10 10 11  9 10  7 11  6  6 10  5  7 11  9\n",
            "  9  8  7 10  5  7  5  3  5  2  3  9  8 10  9  5 10  8 10 10  8  9  7  6\n",
            " 11  7 11  9  8  7  6 10  7  6  7  8  6  7  7  3  7  8  2  7  7  5  6  2\n",
            " 10  6  9  5  8  5 10  6 11 12  7  4  6  8  2  8  6  7  8  3 10  7  8  9\n",
            "  6  7  7  6  6  7  6  4  6  6 10  7  4  5  3 11  7  2  6  6 10 12  6 10\n",
            "  5  3 11  8  2 10 11  7  6  7 10  8  6  9  7 10  7  2  9  3  8  8 10  7\n",
            "  4 11  4  4  4  6  5  8  3  4  7 10 10  9  9 11  6 11  8  6 11 12 12  5\n",
            "  8  9  5 10  7  7 10  9 12  6  6  9  3  3  4  9  9 10  9  7  8  6  8  4\n",
            "  9  5  9  7  5  5  4  5  7 11  4  7  8  8  8  6  2  6  8  6  9  4  2  9\n",
            "  7  6  9  4  8  4  2  9  8 11  4  9  7  6 12  8  4  6 10  4  9 10  7  4\n",
            "  7  9 11  5  9  7 10  9  7  4 10  8  3 11 11  9 10  6  4  5  3  7 10  6\n",
            "  5 10  7 11  3  5  8 10  5 11  5  4  4  9  4  7]\n"
          ]
        }
      ]
    },
    {
      "cell_type": "code",
      "source": [
        "average_result = np.mean(results)\n",
        "max_result = np.max(results)\n",
        "min_result = np.min(results)\n",
        "\n",
        "print(\"Média dos resultados:\", int(round(average_result)))\n",
        "print(\"Lançamento máximo:\", max_result)\n",
        "print(\"Lançamento mínimo:\", min_result)\n"
      ],
      "metadata": {
        "colab": {
          "base_uri": "https://localhost:8080/"
        },
        "id": "S54yPeVB_rFk",
        "outputId": "bf2ea9f4-0eb3-465e-de5c-a6d7ae2bd0f9"
      },
      "execution_count": 12,
      "outputs": [
        {
          "output_type": "stream",
          "name": "stdout",
          "text": [
            "Média dos resultados: 7\n",
            "Lançamento máximo: 12\n",
            "Lançamento mínimo: 2\n"
          ]
        }
      ]
    },
    {
      "cell_type": "code",
      "source": [
        "hist, _ = np.histogram(results, bins=np.arange(2, 14))\n",
        "\n",
        "print(\"Número de vezes que cada lançamento ocorreu:\")\n",
        "for i, count in enumerate(hist, start=2):\n",
        "    print(f\"{i}: {count} vezes\")\n"
      ],
      "metadata": {
        "colab": {
          "base_uri": "https://localhost:8080/"
        },
        "id": "UOxJV5zr_2Zc",
        "outputId": "a7cebb71-1e66-4ee7-83d7-79ab36101046"
      },
      "execution_count": 14,
      "outputs": [
        {
          "output_type": "stream",
          "name": "stdout",
          "text": [
            "Número de vezes que cada lançamento ocorreu:\n",
            "2: 29 vezes\n",
            "3: 56 vezes\n",
            "4: 75 vezes\n",
            "5: 118 vezes\n",
            "6: 136 vezes\n",
            "7: 164 vezes\n",
            "8: 131 vezes\n",
            "9: 117 vezes\n",
            "10: 98 vezes\n",
            "11: 60 vezes\n",
            "12: 16 vezes\n"
          ]
        }
      ]
    },
    {
      "cell_type": "code",
      "source": [
        "expected_counts = num_simulations // 11  # Aproximadamente igual para cada valor\n",
        "observed_counts = hist\n",
        "\n",
        "# Comparação com a suposição de jogo justo:\n",
        "print(\"\\nComparação com a suposição de jogo justo:\")\n",
        "for i in range(2, 13):\n",
        "    expected = expected_counts\n",
        "    observed = observed_counts[i - 2]\n",
        "    print(f\"{i}: Esperado = {expected}, Observado = {observed}\")\n"
      ],
      "metadata": {
        "colab": {
          "base_uri": "https://localhost:8080/"
        },
        "id": "buydtkFS__QQ",
        "outputId": "ef75bd4d-7f1c-45e8-c862-fb3c5365424d"
      },
      "execution_count": 9,
      "outputs": [
        {
          "output_type": "stream",
          "name": "stdout",
          "text": [
            "\n",
            "Comparação com a suposição de jogo justo:\n",
            "2: Esperado = 90, Observado = 29\n",
            "3: Esperado = 90, Observado = 56\n",
            "4: Esperado = 90, Observado = 75\n",
            "5: Esperado = 90, Observado = 118\n",
            "6: Esperado = 90, Observado = 136\n",
            "7: Esperado = 90, Observado = 164\n",
            "8: Esperado = 90, Observado = 131\n",
            "9: Esperado = 90, Observado = 117\n",
            "10: Esperado = 90, Observado = 98\n",
            "11: Esperado = 90, Observado = 60\n",
            "12: Esperado = 90, Observado = 16\n"
          ]
        }
      ]
    },
    {
      "cell_type": "markdown",
      "source": [
        "**Supondo um jogo justo (ou seja, todos os lançamentos são igualmente prováveis), o resultado da sua simulação coincide com essa suposição? Por que sim ou por que não?**\n",
        "\n",
        "Não. Quando dizemos \"jogo justo\", estamos nos referindo a um jogo em que todos os resultados possíveis têm a mesma probabilidade de ocorrer. No caso de dois dados de seis lados, supõe-se que cada resultado (de 2 a 12) tenha a mesma probabilidade de 1/11 de ocorrer, uma vez que existem 11 resultados possíveis.\n",
        "\n",
        "No entanto, a simulação não coincidiu com essa suposição pois existem mais maneiras de obter uma soma de 7 do que qualquer outro resultado. Para entender isso, vamos analisar as combinações possíveis para cada resultado:\n",
        "\n",
        "1. Resultado 2: Há apenas uma maneira de obter uma soma de 2 - ambos os dados mostram 1.\n",
        "\n",
        "2. Resultado 3: Há duas maneiras de obter uma soma de 3 - (1, 2) ou (2, 1).\n",
        "\n",
        "3. Resultado 4: Há três maneiras de obter uma soma de 4 - (1, 3), (2, 2) ou (3, 1).\n",
        "\n",
        "4. Resultado 5: Há quatro maneiras de obter uma soma de 5 - (1, 4), (2, 3), (3, 2) ou (4, 1).\n",
        "\n",
        "5. Resultado 6: Há cinco maneiras de obter uma soma de 6 - (1, 5), (2, 4), (3, 3), (4, 2) ou (5, 1).\n",
        "\n",
        "6. Resultado 7: Há seis maneiras de obter uma soma de 7 - (1, 6), (2, 5), (3, 4), (4, 3), (5, 2) ou (6, 1).\n",
        "\n",
        "7. Resultado 8: Há cinco maneiras de obter uma soma de 8 - (2, 6), (3, 5), (4, 4), (5, 3) ou (6, 2).\n",
        "\n",
        "8. Resultado 9: Há quatro maneiras de obter uma soma de 9 - (3, 6), (4, 5), (5, 4) ou (6, 3).\n",
        "\n",
        "9. Resultado 10: Há três maneiras de obter uma soma de 10 - (4, 6), (5, 5) ou (6, 4).\n",
        "\n",
        "10. Resultado 11: Há duas maneiras de obter uma soma de 11 - (5, 6) ou (6, 5).\n",
        "\n",
        "11. Resultado 12: Há uma maneira de obter uma soma de 12 - ambos os dados mostram 6.\n",
        "\n",
        "Portanto, vemos que a soma 7 tem o maior número de combinações possíveis, o que a torna mais provável de ocorrer. Essa maior variedade de combinações resulta em uma probabilidade maior de obter uma soma de 7 em comparação com outras somas. Isso pode ser uma das razões pelas quais a simulação pode não coincidir perfeitamente com a suposição de um jogo justo."
      ],
      "metadata": {
        "id": "xXbudR_XAJSw"
      }
    },
    {
      "cell_type": "markdown",
      "source": [
        "**O que isso significa para um jogador do jogo de dados?**\n",
        "\n",
        "Para um jogador do jogo de dados, a compreensão das implicações dessa distribuição de somas pode ter influência nas estratégias e expectativas ao jogar. Aqui estão alguns pontos importantes a serem considerados:\n",
        "\n",
        "- Probabilidade de Resultados: Saber que a soma 7 é mais provável do que outros resultados pode ajudar um jogador a fazer escolhas mais informadas ao apostar. Eles podem preferir apostas que envolvam a soma 7, como \"Linha de Passe\" em porcarias, que ganham quando os dados somam 7 ou 11 na rodada de abertura.\n",
        "\n",
        "- Apostas de Probabilidade: O jogador pode optar por fazer apostas de probabilidade mais baixa, como apostas em números individuais, que pagam mais, mas têm menor probabilidade de ocorrer.\n",
        "\n",
        "- Estratégias de Gerenciamento de Risco: Conhecendo a distribuição das somas, um jogador pode adotar estratégias de gerenciamento de risco. Eles podem decidir apostar em combinações de números que tenham uma probabilidade relativamente alta de ocorrer.\n",
        "\n",
        "- Variação nas Estratégias: Dependendo do resultado que o jogador está buscando, eles podem ajustar suas estratégias. Por exemplo, se o jogador estiver procurando resultados consistentes, eles podem optar por apostas com probabilidades mais altas, enquanto se estiverem dispostos a correr mais riscos, podem escolher apostas com pagamentos mais altos.\n",
        "\n",
        "- Reconhecimento de Padrões: Um jogador experiente pode reconhecer padrões na distribuição de resultados e usá-los a seu favor. Se eles perceberem que certas somas estão ocorrendo com mais frequência em um determinado período, podem ajustar suas apostas de acordo.\n",
        "\n",
        "- Realidade versus Expectativa: É importante lembrar que a distribuição de somas é uma tendência probabilística, e resultados individuais podem variar significativamente em um jogo curto. Um jogador deve estar ciente de que mesmo com um conhecimento das probabilidades, resultados imprevisíveis podem ocorrer.\n",
        "\n",
        "Em resumo, entender a distribuição de somas dos dados pode permitir que um jogador tome decisões mais informadas, ajuste suas estratégias de apostas e tenha expectativas mais realistas ao jogar o jogo de dados. No entanto, a natureza aleatória do jogo ainda significa que a sorte desempenha um papel significativo em cada resultado individual."
      ],
      "metadata": {
        "id": "663XY76eLxwI"
      }
    }
  ],
  "metadata": {
    "kernelspec": {
      "display_name": "Python 3",
      "language": "python",
      "name": "python3"
    },
    "language_info": {
      "codemirror_mode": {
        "name": "ipython",
        "version": 3
      },
      "file_extension": ".py",
      "mimetype": "text/x-python",
      "name": "python",
      "nbconvert_exporter": "python",
      "pygments_lexer": "ipython3",
      "version": "3.11.3"
    },
    "orig_nbformat": 4,
    "colab": {
      "provenance": []
    }
  },
  "nbformat": 4,
  "nbformat_minor": 0
}